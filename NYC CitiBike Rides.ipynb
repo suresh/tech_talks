{
 "cells": [
  {
   "cell_type": "code",
   "execution_count": 26,
   "metadata": {
    "collapsed": true
   },
   "outputs": [],
   "source": [
    "import numpy as np\n",
    "import pandas as pd\n",
    "\n",
    "%matplotlib inline\n",
    "import matplotlib.pyplot as plt\n",
    "import seaborn as sns"
   ]
  },
  {
   "cell_type": "code",
   "execution_count": 27,
   "metadata": {
    "collapsed": true
   },
   "outputs": [],
   "source": [
    "# citi training data\n",
    "bike_data = pd.read_csv('data/201706-citibike-tripdata.csv.zip')"
   ]
  },
  {
   "cell_type": "code",
   "execution_count": 28,
   "metadata": {},
   "outputs": [
    {
     "data": {
      "text/plain": [
       "(1731594, 15)"
      ]
     },
     "execution_count": 28,
     "metadata": {},
     "output_type": "execute_result"
    }
   ],
   "source": [
    "bike_data.shape"
   ]
  },
  {
   "cell_type": "code",
   "execution_count": 29,
   "metadata": {},
   "outputs": [
    {
     "data": {
      "text/plain": [
       "Index(['tripduration', 'starttime', 'stoptime', 'start station id',\n",
       "       'start station name', 'start station latitude',\n",
       "       'start station longitude', 'end station id', 'end station name',\n",
       "       'end station latitude', 'end station longitude', 'bikeid', 'usertype',\n",
       "       'birth year', 'gender'],\n",
       "      dtype='object')"
      ]
     },
     "execution_count": 29,
     "metadata": {},
     "output_type": "execute_result"
    }
   ],
   "source": [
    "bike_data.columns"
   ]
  },
  {
   "cell_type": "code",
   "execution_count": 30,
   "metadata": {},
   "outputs": [
    {
     "data": {
      "text/html": [
       "<div>\n",
       "<style>\n",
       "    .dataframe thead tr:only-child th {\n",
       "        text-align: right;\n",
       "    }\n",
       "\n",
       "    .dataframe thead th {\n",
       "        text-align: left;\n",
       "    }\n",
       "\n",
       "    .dataframe tbody tr th {\n",
       "        vertical-align: top;\n",
       "    }\n",
       "</style>\n",
       "<table border=\"1\" class=\"dataframe\">\n",
       "  <thead>\n",
       "    <tr style=\"text-align: right;\">\n",
       "      <th></th>\n",
       "      <th>tripduration</th>\n",
       "      <th>starttime</th>\n",
       "      <th>stoptime</th>\n",
       "      <th>start station id</th>\n",
       "      <th>start station name</th>\n",
       "      <th>start station latitude</th>\n",
       "      <th>start station longitude</th>\n",
       "      <th>end station id</th>\n",
       "      <th>end station name</th>\n",
       "      <th>end station latitude</th>\n",
       "      <th>end station longitude</th>\n",
       "      <th>bikeid</th>\n",
       "      <th>usertype</th>\n",
       "      <th>birth year</th>\n",
       "      <th>gender</th>\n",
       "    </tr>\n",
       "  </thead>\n",
       "  <tbody>\n",
       "    <tr>\n",
       "      <th>0</th>\n",
       "      <td>1397</td>\n",
       "      <td>2017-06-01 00:00:02</td>\n",
       "      <td>2017-06-01 00:23:19</td>\n",
       "      <td>515</td>\n",
       "      <td>W 43 St &amp; 10 Ave</td>\n",
       "      <td>40.760094</td>\n",
       "      <td>-73.994618</td>\n",
       "      <td>3285</td>\n",
       "      <td>W 87 St  &amp; Amsterdam Ave</td>\n",
       "      <td>40.788390</td>\n",
       "      <td>-73.974700</td>\n",
       "      <td>26642</td>\n",
       "      <td>Subscriber</td>\n",
       "      <td>1967.0</td>\n",
       "      <td>1</td>\n",
       "    </tr>\n",
       "    <tr>\n",
       "      <th>1</th>\n",
       "      <td>1103</td>\n",
       "      <td>2017-06-01 00:00:13</td>\n",
       "      <td>2017-06-01 00:18:37</td>\n",
       "      <td>488</td>\n",
       "      <td>W 39 St &amp; 9 Ave</td>\n",
       "      <td>40.756458</td>\n",
       "      <td>-73.993722</td>\n",
       "      <td>297</td>\n",
       "      <td>E 15 St &amp; 3 Ave</td>\n",
       "      <td>40.734232</td>\n",
       "      <td>-73.986923</td>\n",
       "      <td>25656</td>\n",
       "      <td>Subscriber</td>\n",
       "      <td>1981.0</td>\n",
       "      <td>1</td>\n",
       "    </tr>\n",
       "    <tr>\n",
       "      <th>2</th>\n",
       "      <td>1810</td>\n",
       "      <td>2017-06-01 00:00:20</td>\n",
       "      <td>2017-06-01 00:30:31</td>\n",
       "      <td>461</td>\n",
       "      <td>E 20 St &amp; 2 Ave</td>\n",
       "      <td>40.735877</td>\n",
       "      <td>-73.982050</td>\n",
       "      <td>465</td>\n",
       "      <td>Broadway &amp; W 41 St</td>\n",
       "      <td>40.755136</td>\n",
       "      <td>-73.986580</td>\n",
       "      <td>21023</td>\n",
       "      <td>Subscriber</td>\n",
       "      <td>1982.0</td>\n",
       "      <td>1</td>\n",
       "    </tr>\n",
       "    <tr>\n",
       "      <th>3</th>\n",
       "      <td>1760</td>\n",
       "      <td>2017-06-01 00:00:24</td>\n",
       "      <td>2017-06-01 00:29:45</td>\n",
       "      <td>2009</td>\n",
       "      <td>Catherine St &amp; Monroe St</td>\n",
       "      <td>40.711174</td>\n",
       "      <td>-73.996826</td>\n",
       "      <td>527</td>\n",
       "      <td>E 33 St &amp; 2 Ave</td>\n",
       "      <td>40.744023</td>\n",
       "      <td>-73.976056</td>\n",
       "      <td>25718</td>\n",
       "      <td>Subscriber</td>\n",
       "      <td>1973.0</td>\n",
       "      <td>2</td>\n",
       "    </tr>\n",
       "    <tr>\n",
       "      <th>4</th>\n",
       "      <td>2165</td>\n",
       "      <td>2017-06-01 00:00:33</td>\n",
       "      <td>2017-06-01 00:36:38</td>\n",
       "      <td>360</td>\n",
       "      <td>William St &amp; Pine St</td>\n",
       "      <td>40.707179</td>\n",
       "      <td>-74.008873</td>\n",
       "      <td>474</td>\n",
       "      <td>5 Ave &amp; E 29 St</td>\n",
       "      <td>40.745168</td>\n",
       "      <td>-73.986831</td>\n",
       "      <td>18691</td>\n",
       "      <td>Subscriber</td>\n",
       "      <td>1985.0</td>\n",
       "      <td>1</td>\n",
       "    </tr>\n",
       "  </tbody>\n",
       "</table>\n",
       "</div>"
      ],
      "text/plain": [
       "   tripduration            starttime             stoptime  start station id  \\\n",
       "0          1397  2017-06-01 00:00:02  2017-06-01 00:23:19               515   \n",
       "1          1103  2017-06-01 00:00:13  2017-06-01 00:18:37               488   \n",
       "2          1810  2017-06-01 00:00:20  2017-06-01 00:30:31               461   \n",
       "3          1760  2017-06-01 00:00:24  2017-06-01 00:29:45              2009   \n",
       "4          2165  2017-06-01 00:00:33  2017-06-01 00:36:38               360   \n",
       "\n",
       "         start station name  start station latitude  start station longitude  \\\n",
       "0          W 43 St & 10 Ave               40.760094               -73.994618   \n",
       "1           W 39 St & 9 Ave               40.756458               -73.993722   \n",
       "2           E 20 St & 2 Ave               40.735877               -73.982050   \n",
       "3  Catherine St & Monroe St               40.711174               -73.996826   \n",
       "4      William St & Pine St               40.707179               -74.008873   \n",
       "\n",
       "   end station id          end station name  end station latitude  \\\n",
       "0            3285  W 87 St  & Amsterdam Ave             40.788390   \n",
       "1             297           E 15 St & 3 Ave             40.734232   \n",
       "2             465        Broadway & W 41 St             40.755136   \n",
       "3             527           E 33 St & 2 Ave             40.744023   \n",
       "4             474           5 Ave & E 29 St             40.745168   \n",
       "\n",
       "   end station longitude  bikeid    usertype  birth year  gender  \n",
       "0             -73.974700   26642  Subscriber      1967.0       1  \n",
       "1             -73.986923   25656  Subscriber      1981.0       1  \n",
       "2             -73.986580   21023  Subscriber      1982.0       1  \n",
       "3             -73.976056   25718  Subscriber      1973.0       2  \n",
       "4             -73.986831   18691  Subscriber      1985.0       1  "
      ]
     },
     "execution_count": 30,
     "metadata": {},
     "output_type": "execute_result"
    }
   ],
   "source": [
    "bike_data.head()"
   ]
  },
  {
   "cell_type": "code",
   "execution_count": 46,
   "metadata": {},
   "outputs": [
    {
     "data": {
      "text/plain": [
       "519     16364\n",
       "426     13542\n",
       "497     11703\n",
       "402     11388\n",
       "514     11301\n",
       "435     10889\n",
       "459     10574\n",
       "3255    10497\n",
       "490     10009\n",
       "368      9142\n",
       "Name: start station id, dtype: int64"
      ]
     },
     "execution_count": 46,
     "metadata": {},
     "output_type": "execute_result"
    }
   ],
   "source": [
    "bike_data['start station id'].value_counts()[:10]"
   ]
  },
  {
   "cell_type": "code",
   "execution_count": 47,
   "metadata": {},
   "outputs": [
    {
     "data": {
      "text/plain": [
       "519     16089\n",
       "426     14122\n",
       "402     12006\n",
       "497     11991\n",
       "514     11272\n",
       "459     11092\n",
       "435     10993\n",
       "3255    10645\n",
       "368      9314\n",
       "490      9213\n",
       "Name: end station id, dtype: int64"
      ]
     },
     "execution_count": 47,
     "metadata": {},
     "output_type": "execute_result"
    }
   ],
   "source": [
    "bike_data['end station id'].value_counts()[:10]"
   ]
  },
  {
   "cell_type": "code",
   "execution_count": 51,
   "metadata": {
    "collapsed": true
   },
   "outputs": [],
   "source": [
    "bike_data['route_id'] = bike_data['start station id'].astype(str) + '_' + bike_data['end station id'].astype(str)"
   ]
  },
  {
   "cell_type": "code",
   "execution_count": 52,
   "metadata": {},
   "outputs": [
    {
     "data": {
      "text/plain": [
       "2006_2006    793\n",
       "3182_3182    765\n",
       "432_3263     739\n",
       "2006_3282    723\n",
       "3254_3182    678\n",
       "3182_3254    672\n",
       "514_426      651\n",
       "426_514      648\n",
       "281_281      609\n",
       "3254_3254    604\n",
       "Name: route_id, dtype: int64"
      ]
     },
     "execution_count": 52,
     "metadata": {},
     "output_type": "execute_result"
    }
   ],
   "source": [
    "bike_data['route_id'].value_counts()[:10]"
   ]
  },
  {
   "cell_type": "code",
   "execution_count": 55,
   "metadata": {},
   "outputs": [
    {
     "data": {
      "text/html": [
       "<div>\n",
       "<style>\n",
       "    .dataframe thead tr:only-child th {\n",
       "        text-align: right;\n",
       "    }\n",
       "\n",
       "    .dataframe thead th {\n",
       "        text-align: left;\n",
       "    }\n",
       "\n",
       "    .dataframe tbody tr th {\n",
       "        vertical-align: top;\n",
       "    }\n",
       "</style>\n",
       "<table border=\"1\" class=\"dataframe\">\n",
       "  <thead>\n",
       "    <tr style=\"text-align: right;\">\n",
       "      <th></th>\n",
       "      <th>tripduration</th>\n",
       "    </tr>\n",
       "    <tr>\n",
       "      <th>route_id</th>\n",
       "      <th></th>\n",
       "    </tr>\n",
       "  </thead>\n",
       "  <tbody>\n",
       "    <tr>\n",
       "      <th>116_116</th>\n",
       "      <td>1135.256757</td>\n",
       "    </tr>\n",
       "    <tr>\n",
       "      <th>116_127</th>\n",
       "      <td>568.290323</td>\n",
       "    </tr>\n",
       "    <tr>\n",
       "      <th>116_128</th>\n",
       "      <td>851.000000</td>\n",
       "    </tr>\n",
       "    <tr>\n",
       "      <th>116_146</th>\n",
       "      <td>982.461538</td>\n",
       "    </tr>\n",
       "    <tr>\n",
       "      <th>116_150</th>\n",
       "      <td>1211.000000</td>\n",
       "    </tr>\n",
       "    <tr>\n",
       "      <th>116_151</th>\n",
       "      <td>1108.368421</td>\n",
       "    </tr>\n",
       "    <tr>\n",
       "      <th>116_152</th>\n",
       "      <td>1164.357143</td>\n",
       "    </tr>\n",
       "    <tr>\n",
       "      <th>116_153</th>\n",
       "      <td>913.875000</td>\n",
       "    </tr>\n",
       "    <tr>\n",
       "      <th>116_161</th>\n",
       "      <td>638.272727</td>\n",
       "    </tr>\n",
       "    <tr>\n",
       "      <th>116_167</th>\n",
       "      <td>1187.800000</td>\n",
       "    </tr>\n",
       "  </tbody>\n",
       "</table>\n",
       "</div>"
      ],
      "text/plain": [
       "          tripduration\n",
       "route_id              \n",
       "116_116    1135.256757\n",
       "116_127     568.290323\n",
       "116_128     851.000000\n",
       "116_146     982.461538\n",
       "116_150    1211.000000\n",
       "116_151    1108.368421\n",
       "116_152    1164.357143\n",
       "116_153     913.875000\n",
       "116_161     638.272727\n",
       "116_167    1187.800000"
      ]
     },
     "execution_count": 55,
     "metadata": {},
     "output_type": "execute_result"
    }
   ],
   "source": [
    "bike_data.groupby('route_id').agg({'tripduration': np.mean})[:10]"
   ]
  },
  {
   "cell_type": "raw",
   "metadata": {},
   "source": [
    "bike_data[['route_id', 'tripduration']].groupby('route_id').count().reset_index().sort_values(['count'], ascending=False).head(10)"
   ]
  },
  {
   "cell_type": "code",
   "execution_count": null,
   "metadata": {
    "collapsed": true
   },
   "outputs": [],
   "source": []
  },
  {
   "cell_type": "markdown",
   "metadata": {},
   "source": [
    "## Plot street network and routes as interactive web maps"
   ]
  },
  {
   "cell_type": "code",
   "execution_count": 31,
   "metadata": {
    "collapsed": true
   },
   "outputs": [],
   "source": [
    "import osmnx as ox, networkx as nx\n",
    "from IPython.display import IFrame\n",
    "\n",
    "ox.config(log_console=True, use_cache=True)"
   ]
  },
  {
   "cell_type": "code",
   "execution_count": 32,
   "metadata": {
    "collapsed": true
   },
   "outputs": [],
   "source": [
    "import warnings\n",
    "import requests\n",
    "import contextlib\n",
    "\n",
    "try:\n",
    "    from functools import partialmethod\n",
    "except ImportError:\n",
    "    # Python 2 fallback: https://gist.github.com/carymrobbins/8940382\n",
    "    from functools import partial\n",
    "\n",
    "    class partialmethod(partial):\n",
    "        def __get__(self, instance, owner):\n",
    "            if instance is None:\n",
    "                return self\n",
    "\n",
    "            return partial(self.func, instance, *(self.args or ()), **(self.keywords or {}))\n",
    "\n",
    "@contextlib.contextmanager\n",
    "def no_ssl_verification():\n",
    "    old_request = requests.Session.request\n",
    "    requests.Session.request = partialmethod(old_request, verify=False)\n",
    "\n",
    "    warnings.filterwarnings('ignore', 'Unverified HTTPS request')\n",
    "    yield\n",
    "    warnings.resetwarnings()\n",
    "\n",
    "    requests.Session.request = old_request"
   ]
  },
  {
   "cell_type": "code",
   "execution_count": 33,
   "metadata": {},
   "outputs": [
    {
     "name": "stderr",
     "output_type": "stream",
     "text": [
      "/home/s4szqx/anaconda3/lib/python3.6/site-packages/osmnx/core.py:111: ResourceWarning: unclosed file <_io.TextIOWrapper name='cache/7a10ef7f51a32868ea1208e6d6162cd1.json' mode='r' encoding='utf-8'>\n",
      "  response_json = json.load(io.open(cache_path_filename, encoding='utf-8'))\n",
      "/home/s4szqx/anaconda3/lib/python3.6/site-packages/osmnx/core.py:111: ResourceWarning: unclosed file <_io.TextIOWrapper name='cache/d129ff1e8f7404f85891e99f8d59cd81.json' mode='r' encoding='utf-8'>\n",
      "  response_json = json.load(io.open(cache_path_filename, encoding='utf-8'))\n"
     ]
    }
   ],
   "source": [
    "# Download the street network for Peidmont, CA\n",
    "with no_ssl_verification():\n",
    "    G = ox.graph_from_place('Piedmont, California, USA', network_type='drive')    "
   ]
  },
  {
   "cell_type": "code",
   "execution_count": 41,
   "metadata": {
    "collapsed": true
   },
   "outputs": [],
   "source": [
    "graph_map = ox.plot_graph_folium(G, popup_attribute='name', edge_width=2)"
   ]
  },
  {
   "cell_type": "code",
   "execution_count": 35,
   "metadata": {
    "collapsed": true
   },
   "outputs": [],
   "source": [
    "import folium\n",
    "\n",
    "m = folium.Map(location=[45.5236, -122.6750])"
   ]
  },
  {
   "cell_type": "code",
   "execution_count": 36,
   "metadata": {},
   "outputs": [
    {
     "data": {
      "text/html": [
       "<div style=\"width:100%;\"><div style=\"position:relative;width:100%;height:0;padding-bottom:60%;\"><iframe src=\"data:text/html;charset=utf-8;base64,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\" style=\"position:absolute;width:100%;height:100%;left:0;top:0;border:none !important;\" allowfullscreen webkitallowfullscreen mozallowfullscreen></iframe></div></div>"
      ],
      "text/plain": [
       "<folium.folium.Map at 0x7f59dad99d68>"
      ]
     },
     "execution_count": 36,
     "metadata": {},
     "output_type": "execute_result"
    }
   ],
   "source": [
    "m"
   ]
  },
  {
   "cell_type": "code",
   "execution_count": 37,
   "metadata": {},
   "outputs": [
    {
     "data": {
      "text/html": [
       "<div style=\"width:100%;\"><div style=\"position:relative;width:100%;height:0;padding-bottom:60%;\"><iframe src=\"data:text/html;charset=utf-8;base64,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\" style=\"position:absolute;width:100%;height:100%;left:0;top:0;border:none !important;\" allowfullscreen webkitallowfullscreen mozallowfullscreen></iframe></div></div>"
      ],
      "text/plain": [
       "<folium.folium.Map at 0x7f5a408c5828>"
      ]
     },
     "execution_count": 37,
     "metadata": {},
     "output_type": "execute_result"
    }
   ],
   "source": [
    "map_5 = folium.Map(location=[45.5236, -122.6750],\n",
    "                   zoom_start=13)\n",
    "\n",
    "folium.RegularPolygonMarker(\n",
    "    [45.5012, -122.6655],\n",
    "    popup='Ross Island Bridge',\n",
    "    fill_color='#132b5e',\n",
    "    number_of_sides=3,\n",
    "    radius=10\n",
    "    ).add_to(map_5)\n",
    "folium.RegularPolygonMarker(\n",
    "    [45.5132, -122.6708],\n",
    "    popup='Hawthorne Bridge',\n",
    "    fill_color='#45647d',\n",
    "    number_of_sides=4,\n",
    "    radius=10\n",
    "    ).add_to(map_5)\n",
    "folium.RegularPolygonMarker(\n",
    "    [45.5275, -122.6692],\n",
    "    popup='Steel Bridge',\n",
    "    fill_color='#769d96',\n",
    "    number_of_sides=6,\n",
    "    radius=10\n",
    "    ).add_to(map_5)\n",
    "folium.RegularPolygonMarker(\n",
    "    [45.5318, -122.6745],\n",
    "    popup='Broadway Bridge',\n",
    "    fill_color='#769d96',\n",
    "    number_of_sides=8,\n",
    "    radius=10\n",
    "    ).add_to(map_5)\n",
    "map_5"
   ]
  },
  {
   "cell_type": "code",
   "execution_count": 38,
   "metadata": {
    "collapsed": true
   },
   "outputs": [],
   "source": [
    "# use networkx to calculate the shortest path between two nodes\n",
    "origin_node = list(G.nodes())[0]\n",
    "destination_node = list(G.nodes())[-1]\n",
    "route = nx.shortest_path(G, origin_node, destination_node)"
   ]
  },
  {
   "cell_type": "code",
   "execution_count": 39,
   "metadata": {
    "collapsed": true
   },
   "outputs": [],
   "source": [
    "# plot the route with folium\n",
    "route_map = ox.plot_route_folium(G, route)"
   ]
  },
  {
   "cell_type": "code",
   "execution_count": 40,
   "metadata": {},
   "outputs": [
    {
     "data": {
      "text/html": [
       "<div style=\"width:100%;\"><div style=\"position:relative;width:100%;height:0;padding-bottom:60%;\"><iframe src=\"data:text/html;charset=utf-8;base64,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\" style=\"position:absolute;width:100%;height:100%;left:0;top:0;border:none !important;\" allowfullscreen webkitallowfullscreen mozallowfullscreen></iframe></div></div>"
      ],
      "text/plain": [
       "<folium.folium.Map at 0x7f59da7ceb70>"
      ]
     },
     "execution_count": 40,
     "metadata": {},
     "output_type": "execute_result"
    }
   ],
   "source": [
    "route_map"
   ]
  },
  {
   "cell_type": "code",
   "execution_count": 43,
   "metadata": {},
   "outputs": [
    {
     "data": {
      "text/html": [
       "<div style=\"width:100%;\"><div style=\"position:relative;width:100%;height:0;padding-bottom:60%;\"><iframe src=\"data:text/html;charset=utf-8;base64,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\" style=\"position:absolute;width:100%;height:100%;left:0;top:0;border:none !important;\" allowfullscreen webkitallowfullscreen mozallowfullscreen></iframe></div></div>"
      ],
      "text/plain": [
       "<folium.folium.Map at 0x7f59d8b98748>"
      ]
     },
     "execution_count": 43,
     "metadata": {},
     "output_type": "execute_result"
    }
   ],
   "source": [
    "# plot the route with folium on top of the previously created graph_map\n",
    "route_graph_map = ox.plot_route_folium(G, route, popup_attribute='length')\n",
    "\n",
    "route_graph_map"
   ]
  },
  {
   "cell_type": "code",
   "execution_count": null,
   "metadata": {
    "collapsed": true
   },
   "outputs": [],
   "source": []
  }
 ],
 "metadata": {
  "kernelspec": {
   "display_name": "Python 3",
   "language": "python",
   "name": "python3"
  },
  "language_info": {
   "codemirror_mode": {
    "name": "ipython",
    "version": 3
   },
   "file_extension": ".py",
   "mimetype": "text/x-python",
   "name": "python",
   "nbconvert_exporter": "python",
   "pygments_lexer": "ipython3",
   "version": "3.6.0"
  }
 },
 "nbformat": 4,
 "nbformat_minor": 2
}
