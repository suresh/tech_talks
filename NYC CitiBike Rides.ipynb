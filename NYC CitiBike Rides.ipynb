{
 "cells": [
  {
   "cell_type": "code",
   "execution_count": 1,
   "metadata": {
    "collapsed": true
   },
   "outputs": [],
   "source": [
    "import numpy as np\n",
    "import pandas as pd\n",
    "\n",
    "%matplotlib inline\n",
    "import matplotlib.pyplot as plt\n",
    "import seaborn as sns"
   ]
  },
  {
   "cell_type": "code",
   "execution_count": 2,
   "metadata": {},
   "outputs": [],
   "source": [
    "# citi training data\n",
    "bike_data = pd.read_csv('data/201706-citibike-tripdata.csv.zip')"
   ]
  },
  {
   "cell_type": "code",
   "execution_count": 3,
   "metadata": {},
   "outputs": [
    {
     "data": {
      "text/plain": [
       "(1731594, 15)"
      ]
     },
     "execution_count": 3,
     "metadata": {},
     "output_type": "execute_result"
    }
   ],
   "source": [
    "bike_data.shape"
   ]
  },
  {
   "cell_type": "code",
   "execution_count": 4,
   "metadata": {},
   "outputs": [
    {
     "data": {
      "text/plain": [
       "Index(['tripduration', 'starttime', 'stoptime', 'start station id',\n",
       "       'start station name', 'start station latitude',\n",
       "       'start station longitude', 'end station id', 'end station name',\n",
       "       'end station latitude', 'end station longitude', 'bikeid', 'usertype',\n",
       "       'birth year', 'gender'],\n",
       "      dtype='object')"
      ]
     },
     "execution_count": 4,
     "metadata": {},
     "output_type": "execute_result"
    }
   ],
   "source": [
    "bike_data.columns"
   ]
  },
  {
   "cell_type": "code",
   "execution_count": 5,
   "metadata": {},
   "outputs": [
    {
     "data": {
      "text/html": [
       "<div>\n",
       "<style>\n",
       "    .dataframe thead tr:only-child th {\n",
       "        text-align: right;\n",
       "    }\n",
       "\n",
       "    .dataframe thead th {\n",
       "        text-align: left;\n",
       "    }\n",
       "\n",
       "    .dataframe tbody tr th {\n",
       "        vertical-align: top;\n",
       "    }\n",
       "</style>\n",
       "<table border=\"1\" class=\"dataframe\">\n",
       "  <thead>\n",
       "    <tr style=\"text-align: right;\">\n",
       "      <th></th>\n",
       "      <th>tripduration</th>\n",
       "      <th>starttime</th>\n",
       "      <th>stoptime</th>\n",
       "      <th>start station id</th>\n",
       "      <th>start station name</th>\n",
       "      <th>start station latitude</th>\n",
       "      <th>start station longitude</th>\n",
       "      <th>end station id</th>\n",
       "      <th>end station name</th>\n",
       "      <th>end station latitude</th>\n",
       "      <th>end station longitude</th>\n",
       "      <th>bikeid</th>\n",
       "      <th>usertype</th>\n",
       "      <th>birth year</th>\n",
       "      <th>gender</th>\n",
       "    </tr>\n",
       "  </thead>\n",
       "  <tbody>\n",
       "    <tr>\n",
       "      <th>0</th>\n",
       "      <td>1397</td>\n",
       "      <td>2017-06-01 00:00:02</td>\n",
       "      <td>2017-06-01 00:23:19</td>\n",
       "      <td>515</td>\n",
       "      <td>W 43 St &amp; 10 Ave</td>\n",
       "      <td>40.760094</td>\n",
       "      <td>-73.994618</td>\n",
       "      <td>3285</td>\n",
       "      <td>W 87 St  &amp; Amsterdam Ave</td>\n",
       "      <td>40.788390</td>\n",
       "      <td>-73.974700</td>\n",
       "      <td>26642</td>\n",
       "      <td>Subscriber</td>\n",
       "      <td>1967.0</td>\n",
       "      <td>1</td>\n",
       "    </tr>\n",
       "    <tr>\n",
       "      <th>1</th>\n",
       "      <td>1103</td>\n",
       "      <td>2017-06-01 00:00:13</td>\n",
       "      <td>2017-06-01 00:18:37</td>\n",
       "      <td>488</td>\n",
       "      <td>W 39 St &amp; 9 Ave</td>\n",
       "      <td>40.756458</td>\n",
       "      <td>-73.993722</td>\n",
       "      <td>297</td>\n",
       "      <td>E 15 St &amp; 3 Ave</td>\n",
       "      <td>40.734232</td>\n",
       "      <td>-73.986923</td>\n",
       "      <td>25656</td>\n",
       "      <td>Subscriber</td>\n",
       "      <td>1981.0</td>\n",
       "      <td>1</td>\n",
       "    </tr>\n",
       "    <tr>\n",
       "      <th>2</th>\n",
       "      <td>1810</td>\n",
       "      <td>2017-06-01 00:00:20</td>\n",
       "      <td>2017-06-01 00:30:31</td>\n",
       "      <td>461</td>\n",
       "      <td>E 20 St &amp; 2 Ave</td>\n",
       "      <td>40.735877</td>\n",
       "      <td>-73.982050</td>\n",
       "      <td>465</td>\n",
       "      <td>Broadway &amp; W 41 St</td>\n",
       "      <td>40.755136</td>\n",
       "      <td>-73.986580</td>\n",
       "      <td>21023</td>\n",
       "      <td>Subscriber</td>\n",
       "      <td>1982.0</td>\n",
       "      <td>1</td>\n",
       "    </tr>\n",
       "    <tr>\n",
       "      <th>3</th>\n",
       "      <td>1760</td>\n",
       "      <td>2017-06-01 00:00:24</td>\n",
       "      <td>2017-06-01 00:29:45</td>\n",
       "      <td>2009</td>\n",
       "      <td>Catherine St &amp; Monroe St</td>\n",
       "      <td>40.711174</td>\n",
       "      <td>-73.996826</td>\n",
       "      <td>527</td>\n",
       "      <td>E 33 St &amp; 2 Ave</td>\n",
       "      <td>40.744023</td>\n",
       "      <td>-73.976056</td>\n",
       "      <td>25718</td>\n",
       "      <td>Subscriber</td>\n",
       "      <td>1973.0</td>\n",
       "      <td>2</td>\n",
       "    </tr>\n",
       "    <tr>\n",
       "      <th>4</th>\n",
       "      <td>2165</td>\n",
       "      <td>2017-06-01 00:00:33</td>\n",
       "      <td>2017-06-01 00:36:38</td>\n",
       "      <td>360</td>\n",
       "      <td>William St &amp; Pine St</td>\n",
       "      <td>40.707179</td>\n",
       "      <td>-74.008873</td>\n",
       "      <td>474</td>\n",
       "      <td>5 Ave &amp; E 29 St</td>\n",
       "      <td>40.745168</td>\n",
       "      <td>-73.986831</td>\n",
       "      <td>18691</td>\n",
       "      <td>Subscriber</td>\n",
       "      <td>1985.0</td>\n",
       "      <td>1</td>\n",
       "    </tr>\n",
       "  </tbody>\n",
       "</table>\n",
       "</div>"
      ],
      "text/plain": [
       "   tripduration            starttime             stoptime  start station id  \\\n",
       "0          1397  2017-06-01 00:00:02  2017-06-01 00:23:19               515   \n",
       "1          1103  2017-06-01 00:00:13  2017-06-01 00:18:37               488   \n",
       "2          1810  2017-06-01 00:00:20  2017-06-01 00:30:31               461   \n",
       "3          1760  2017-06-01 00:00:24  2017-06-01 00:29:45              2009   \n",
       "4          2165  2017-06-01 00:00:33  2017-06-01 00:36:38               360   \n",
       "\n",
       "         start station name  start station latitude  start station longitude  \\\n",
       "0          W 43 St & 10 Ave               40.760094               -73.994618   \n",
       "1           W 39 St & 9 Ave               40.756458               -73.993722   \n",
       "2           E 20 St & 2 Ave               40.735877               -73.982050   \n",
       "3  Catherine St & Monroe St               40.711174               -73.996826   \n",
       "4      William St & Pine St               40.707179               -74.008873   \n",
       "\n",
       "   end station id          end station name  end station latitude  \\\n",
       "0            3285  W 87 St  & Amsterdam Ave             40.788390   \n",
       "1             297           E 15 St & 3 Ave             40.734232   \n",
       "2             465        Broadway & W 41 St             40.755136   \n",
       "3             527           E 33 St & 2 Ave             40.744023   \n",
       "4             474           5 Ave & E 29 St             40.745168   \n",
       "\n",
       "   end station longitude  bikeid    usertype  birth year  gender  \n",
       "0             -73.974700   26642  Subscriber      1967.0       1  \n",
       "1             -73.986923   25656  Subscriber      1981.0       1  \n",
       "2             -73.986580   21023  Subscriber      1982.0       1  \n",
       "3             -73.976056   25718  Subscriber      1973.0       2  \n",
       "4             -73.986831   18691  Subscriber      1985.0       1  "
      ]
     },
     "execution_count": 5,
     "metadata": {},
     "output_type": "execute_result"
    }
   ],
   "source": [
    "bike_data.head()"
   ]
  },
  {
   "cell_type": "code",
   "execution_count": 6,
   "metadata": {},
   "outputs": [
    {
     "data": {
      "text/plain": [
       "519     16364\n",
       "426     13542\n",
       "497     11703\n",
       "402     11388\n",
       "514     11301\n",
       "435     10889\n",
       "459     10574\n",
       "3255    10497\n",
       "490     10009\n",
       "368      9142\n",
       "Name: start station id, dtype: int64"
      ]
     },
     "execution_count": 6,
     "metadata": {},
     "output_type": "execute_result"
    }
   ],
   "source": [
    "bike_data['start station id'].value_counts()[:10]"
   ]
  },
  {
   "cell_type": "code",
   "execution_count": 7,
   "metadata": {},
   "outputs": [
    {
     "data": {
      "text/plain": [
       "519     16089\n",
       "426     14122\n",
       "402     12006\n",
       "497     11991\n",
       "514     11272\n",
       "459     11092\n",
       "435     10993\n",
       "3255    10645\n",
       "368      9314\n",
       "490      9213\n",
       "Name: end station id, dtype: int64"
      ]
     },
     "execution_count": 7,
     "metadata": {},
     "output_type": "execute_result"
    }
   ],
   "source": [
    "bike_data['end station id'].value_counts()[:10]"
   ]
  },
  {
   "cell_type": "code",
   "execution_count": 8,
   "metadata": {
    "collapsed": true
   },
   "outputs": [],
   "source": [
    "bike_data['route_id'] = bike_data['start station id'].astype(str) + '_' + bike_data['end station id'].astype(str)"
   ]
  },
  {
   "cell_type": "code",
   "execution_count": 9,
   "metadata": {},
   "outputs": [
    {
     "data": {
      "text/plain": [
       "2006_2006    793\n",
       "3182_3182    765\n",
       "432_3263     739\n",
       "2006_3282    723\n",
       "3254_3182    678\n",
       "3182_3254    672\n",
       "514_426      651\n",
       "426_514      648\n",
       "281_281      609\n",
       "3254_3254    604\n",
       "Name: route_id, dtype: int64"
      ]
     },
     "execution_count": 9,
     "metadata": {},
     "output_type": "execute_result"
    }
   ],
   "source": [
    "bike_data['route_id'].value_counts()[:10]"
   ]
  },
  {
   "cell_type": "code",
   "execution_count": 10,
   "metadata": {},
   "outputs": [
    {
     "data": {
      "text/html": [
       "<div>\n",
       "<style>\n",
       "    .dataframe thead tr:only-child th {\n",
       "        text-align: right;\n",
       "    }\n",
       "\n",
       "    .dataframe thead th {\n",
       "        text-align: left;\n",
       "    }\n",
       "\n",
       "    .dataframe tbody tr th {\n",
       "        vertical-align: top;\n",
       "    }\n",
       "</style>\n",
       "<table border=\"1\" class=\"dataframe\">\n",
       "  <thead>\n",
       "    <tr style=\"text-align: right;\">\n",
       "      <th></th>\n",
       "      <th>tripduration</th>\n",
       "    </tr>\n",
       "    <tr>\n",
       "      <th>route_id</th>\n",
       "      <th></th>\n",
       "    </tr>\n",
       "  </thead>\n",
       "  <tbody>\n",
       "    <tr>\n",
       "      <th>116_116</th>\n",
       "      <td>1135.256757</td>\n",
       "    </tr>\n",
       "    <tr>\n",
       "      <th>116_127</th>\n",
       "      <td>568.290323</td>\n",
       "    </tr>\n",
       "    <tr>\n",
       "      <th>116_128</th>\n",
       "      <td>851.000000</td>\n",
       "    </tr>\n",
       "    <tr>\n",
       "      <th>116_146</th>\n",
       "      <td>982.461538</td>\n",
       "    </tr>\n",
       "    <tr>\n",
       "      <th>116_150</th>\n",
       "      <td>1211.000000</td>\n",
       "    </tr>\n",
       "    <tr>\n",
       "      <th>116_151</th>\n",
       "      <td>1108.368421</td>\n",
       "    </tr>\n",
       "    <tr>\n",
       "      <th>116_152</th>\n",
       "      <td>1164.357143</td>\n",
       "    </tr>\n",
       "    <tr>\n",
       "      <th>116_153</th>\n",
       "      <td>913.875000</td>\n",
       "    </tr>\n",
       "    <tr>\n",
       "      <th>116_161</th>\n",
       "      <td>638.272727</td>\n",
       "    </tr>\n",
       "    <tr>\n",
       "      <th>116_167</th>\n",
       "      <td>1187.800000</td>\n",
       "    </tr>\n",
       "  </tbody>\n",
       "</table>\n",
       "</div>"
      ],
      "text/plain": [
       "          tripduration\n",
       "route_id              \n",
       "116_116    1135.256757\n",
       "116_127     568.290323\n",
       "116_128     851.000000\n",
       "116_146     982.461538\n",
       "116_150    1211.000000\n",
       "116_151    1108.368421\n",
       "116_152    1164.357143\n",
       "116_153     913.875000\n",
       "116_161     638.272727\n",
       "116_167    1187.800000"
      ]
     },
     "execution_count": 10,
     "metadata": {},
     "output_type": "execute_result"
    }
   ],
   "source": [
    "bike_data.groupby('route_id').agg({'tripduration': np.mean})[:10]"
   ]
  },
  {
   "cell_type": "raw",
   "metadata": {},
   "source": [
    "bike_data[['route_id', 'tripduration']].groupby('route_id').count().reset_index().sort_values(['count'], ascending=False).head(10)"
   ]
  },
  {
   "cell_type": "code",
   "execution_count": null,
   "metadata": {
    "collapsed": true
   },
   "outputs": [],
   "source": []
  },
  {
   "cell_type": "markdown",
   "metadata": {},
   "source": [
    "## Plot street network and routes as interactive web maps"
   ]
  },
  {
   "cell_type": "code",
   "execution_count": 11,
   "metadata": {
    "collapsed": true
   },
   "outputs": [],
   "source": [
    "import osmnx as ox, networkx as nx\n",
    "from IPython.display import IFrame\n",
    "\n",
    "ox.config(log_console=True, use_cache=True)"
   ]
  },
  {
   "cell_type": "code",
   "execution_count": 12,
   "metadata": {
    "collapsed": true
   },
   "outputs": [],
   "source": [
    "import warnings\n",
    "import requests\n",
    "import contextlib\n",
    "\n",
    "try:\n",
    "    from functools import partialmethod\n",
    "except ImportError:\n",
    "    # Python 2 fallback: https://gist.github.com/carymrobbins/8940382\n",
    "    from functools import partial\n",
    "\n",
    "    class partialmethod(partial):\n",
    "        def __get__(self, instance, owner):\n",
    "            if instance is None:\n",
    "                return self\n",
    "\n",
    "            return partial(self.func, instance, *(self.args or ()), **(self.keywords or {}))\n",
    "\n",
    "@contextlib.contextmanager\n",
    "def no_ssl_verification():\n",
    "    old_request = requests.Session.request\n",
    "    requests.Session.request = partialmethod(old_request, verify=False)\n",
    "\n",
    "    warnings.filterwarnings('ignore', 'Unverified HTTPS request')\n",
    "    yield\n",
    "    warnings.resetwarnings()\n",
    "\n",
    "    requests.Session.request = old_request"
   ]
  },
  {
   "cell_type": "code",
   "execution_count": 13,
   "metadata": {},
   "outputs": [],
   "source": [
    "# Download the street network for Peidmont, CA\n",
    "with no_ssl_verification():\n",
    "    G = ox.graph_from_place('Piedmont, California, USA', network_type='drive')    "
   ]
  },
  {
   "cell_type": "code",
   "execution_count": 14,
   "metadata": {
    "collapsed": true
   },
   "outputs": [],
   "source": [
    "graph_map = ox.plot_graph_folium(G, popup_attribute='name', edge_width=2)"
   ]
  },
  {
   "cell_type": "code",
   "execution_count": 15,
   "metadata": {
    "collapsed": true
   },
   "outputs": [],
   "source": [
    "import folium\n",
    "\n",
    "m = folium.Map(location=[45.5236, -122.6750])"
   ]
  },
  {
   "cell_type": "code",
   "execution_count": 16,
   "metadata": {},
   "outputs": [
    {
     "data": {
      "text/html": [
       "<div style=\"width:100%;\"><div style=\"position:relative;width:100%;height:0;padding-bottom:60%;\"><iframe src=\"data:text/html;charset=utf-8;base64,PCFET0NUWVBFIGh0bWw+CjxoZWFkPiAgICAKICAgIDxtZXRhIGh0dHAtZXF1aXY9ImNvbnRlbnQtdHlwZSIgY29udGVudD0idGV4dC9odG1sOyBjaGFyc2V0PVVURi04IiAvPgogICAgPHNjcmlwdD5MX1BSRUZFUl9DQU5WQVMgPSBmYWxzZTsgTF9OT19UT1VDSCA9IGZhbHNlOyBMX0RJU0FCTEVfM0QgPSBmYWxzZTs8L3NjcmlwdD4KICAgIDxzY3JpcHQgc3JjPSJodHRwczovL2Nkbi5qc2RlbGl2ci5uZXQvbnBtL2xlYWZsZXRAMS4yLjAvZGlzdC9sZWFmbGV0LmpzIj48L3NjcmlwdD4KICAgIDxzY3JpcHQgc3JjPSJodHRwczovL2FqYXguZ29vZ2xlYXBpcy5jb20vYWpheC9saWJzL2pxdWVyeS8xLjExLjEvanF1ZXJ5Lm1pbi5qcyI+PC9zY3JpcHQ+CiAgICA8c2NyaXB0IHNyYz0iaHR0cHM6Ly9tYXhjZG4uYm9vdHN0cmFwY2RuLmNvbS9ib290c3RyYXAvMy4yLjAvanMvYm9vdHN0cmFwLm1pbi5qcyI+PC9zY3JpcHQ+CiAgICA8c2NyaXB0IHNyYz0iaHR0cHM6Ly9jZG5qcy5jbG91ZGZsYXJlLmNvbS9hamF4L2xpYnMvTGVhZmxldC5hd2Vzb21lLW1hcmtlcnMvMi4wLjIvbGVhZmxldC5hd2Vzb21lLW1hcmtlcnMuanMiPjwvc2NyaXB0PgogICAgPGxpbmsgcmVsPSJzdHlsZXNoZWV0IiBocmVmPSJodHRwczovL2Nkbi5qc2RlbGl2ci5uZXQvbnBtL2xlYWZsZXRAMS4yLjAvZGlzdC9sZWFmbGV0LmNzcyIgLz4KICAgIDxsaW5rIHJlbD0ic3R5bGVzaGVldCIgaHJlZj0iaHR0cHM6Ly9tYXhjZG4uYm9vdHN0cmFwY2RuLmNvbS9ib290c3RyYXAvMy4yLjAvY3NzL2Jvb3RzdHJhcC5taW4uY3NzIiAvPgogICAgPGxpbmsgcmVsPSJzdHlsZXNoZWV0IiBocmVmPSJodHRwczovL21heGNkbi5ib290c3RyYXBjZG4uY29tL2Jvb3RzdHJhcC8zLjIuMC9jc3MvYm9vdHN0cmFwLXRoZW1lLm1pbi5jc3MiIC8+CiAgICA8bGluayByZWw9InN0eWxlc2hlZXQiIGhyZWY9Imh0dHBzOi8vbWF4Y2RuLmJvb3RzdHJhcGNkbi5jb20vZm9udC1hd2Vzb21lLzQuNi4zL2Nzcy9mb250LWF3ZXNvbWUubWluLmNzcyIgLz4KICAgIDxsaW5rIHJlbD0ic3R5bGVzaGVldCIgaHJlZj0iaHR0cHM6Ly9jZG5qcy5jbG91ZGZsYXJlLmNvbS9hamF4L2xpYnMvTGVhZmxldC5hd2Vzb21lLW1hcmtlcnMvMi4wLjIvbGVhZmxldC5hd2Vzb21lLW1hcmtlcnMuY3NzIiAvPgogICAgPGxpbmsgcmVsPSJzdHlsZXNoZWV0IiBocmVmPSJodHRwczovL3Jhd2dpdC5jb20vcHl0aG9uLXZpc3VhbGl6YXRpb24vZm9saXVtL21hc3Rlci9mb2xpdW0vdGVtcGxhdGVzL2xlYWZsZXQuYXdlc29tZS5yb3RhdGUuY3NzIiAvPgogICAgPHN0eWxlPmh0bWwsIGJvZHkge3dpZHRoOiAxMDAlO2hlaWdodDogMTAwJTttYXJnaW46IDA7cGFkZGluZzogMDt9PC9zdHlsZT4KICAgIDxzdHlsZT4jbWFwIHtwb3NpdGlvbjphYnNvbHV0ZTt0b3A6MDtib3R0b206MDtyaWdodDowO2xlZnQ6MDt9PC9zdHlsZT4KICAgIAogICAgICAgICAgICA8c3R5bGU+ICNtYXBfNDUxNmI1YjkyYjlhNGVmZWFkZGU0N2ZiNmEzZDUxMzkgewogICAgICAgICAgICAgICAgcG9zaXRpb24gOiByZWxhdGl2ZTsKICAgICAgICAgICAgICAgIHdpZHRoIDogMTAwLjAlOwogICAgICAgICAgICAgICAgaGVpZ2h0OiAxMDAuMCU7CiAgICAgICAgICAgICAgICBsZWZ0OiAwLjAlOwogICAgICAgICAgICAgICAgdG9wOiAwLjAlOwogICAgICAgICAgICAgICAgfQogICAgICAgICAgICA8L3N0eWxlPgogICAgICAgIAo8L2hlYWQ+Cjxib2R5PiAgICAKICAgIAogICAgICAgICAgICA8ZGl2IGNsYXNzPSJmb2xpdW0tbWFwIiBpZD0ibWFwXzQ1MTZiNWI5MmI5YTRlZmVhZGRlNDdmYjZhM2Q1MTM5IiA+PC9kaXY+CiAgICAgICAgCjwvYm9keT4KPHNjcmlwdD4gICAgCiAgICAKCiAgICAgICAgICAgIAogICAgICAgICAgICAgICAgdmFyIGJvdW5kcyA9IG51bGw7CiAgICAgICAgICAgIAoKICAgICAgICAgICAgdmFyIG1hcF80NTE2YjViOTJiOWE0ZWZlYWRkZTQ3ZmI2YTNkNTEzOSA9IEwubWFwKAogICAgICAgICAgICAgICAgICAgICAgICAgICAgICAgICAgJ21hcF80NTE2YjViOTJiOWE0ZWZlYWRkZTQ3ZmI2YTNkNTEzOScsCiAgICAgICAgICAgICAgICAgICAgICAgICAgICAgICAgICB7Y2VudGVyOiBbNDUuNTIzNiwtMTIyLjY3NV0sCiAgICAgICAgICAgICAgICAgICAgICAgICAgICAgICAgICB6b29tOiAxMCwKICAgICAgICAgICAgICAgICAgICAgICAgICAgICAgICAgIG1heEJvdW5kczogYm91bmRzLAogICAgICAgICAgICAgICAgICAgICAgICAgICAgICAgICAgbGF5ZXJzOiBbXSwKICAgICAgICAgICAgICAgICAgICAgICAgICAgICAgICAgIHdvcmxkQ29weUp1bXA6IGZhbHNlLAogICAgICAgICAgICAgICAgICAgICAgICAgICAgICAgICAgY3JzOiBMLkNSUy5FUFNHMzg1NwogICAgICAgICAgICAgICAgICAgICAgICAgICAgICAgICB9KTsKICAgICAgICAgICAgCiAgICAgICAgCiAgICAKICAgICAgICAgICAgdmFyIHRpbGVfbGF5ZXJfN2QzNDRkZGViYWQ2NGZiMjg1ODEyM2IzMzVkNGJjZTMgPSBMLnRpbGVMYXllcigKICAgICAgICAgICAgICAgICdodHRwczovL3tzfS50aWxlLm9wZW5zdHJlZXRtYXAub3JnL3t6fS97eH0ve3l9LnBuZycsCiAgICAgICAgICAgICAgICB7CiAgImF0dHJpYnV0aW9uIjogbnVsbCwKICAiZGV0ZWN0UmV0aW5hIjogZmFsc2UsCiAgIm1heFpvb20iOiAxOCwKICAibWluWm9vbSI6IDEsCiAgIm5vV3JhcCI6IGZhbHNlLAogICJzdWJkb21haW5zIjogImFiYyIKfQogICAgICAgICAgICAgICAgKS5hZGRUbyhtYXBfNDUxNmI1YjkyYjlhNGVmZWFkZGU0N2ZiNmEzZDUxMzkpOwogICAgICAgIAo8L3NjcmlwdD4=\" style=\"position:absolute;width:100%;height:100%;left:0;top:0;border:none !important;\" allowfullscreen webkitallowfullscreen mozallowfullscreen></iframe></div></div>"
      ],
      "text/plain": [
       "<folium.folium.Map at 0x7f58cd667b38>"
      ]
     },
     "execution_count": 16,
     "metadata": {},
     "output_type": "execute_result"
    }
   ],
   "source": [
    "m"
   ]
  },
  {
   "cell_type": "code",
   "execution_count": 17,
   "metadata": {},
   "outputs": [
    {
     "data": {
      "text/html": [
       "<div style=\"width:100%;\"><div style=\"position:relative;width:100%;height:0;padding-bottom:60%;\"><iframe src=\"data:text/html;charset=utf-8;base64,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\" style=\"position:absolute;width:100%;height:100%;left:0;top:0;border:none !important;\" allowfullscreen webkitallowfullscreen mozallowfullscreen></iframe></div></div>"
      ],
      "text/plain": [
       "<folium.folium.Map at 0x7f58cd667b70>"
      ]
     },
     "execution_count": 17,
     "metadata": {},
     "output_type": "execute_result"
    }
   ],
   "source": [
    "map_5 = folium.Map(location=[45.5236, -122.6750],\n",
    "                   zoom_start=13)\n",
    "\n",
    "folium.RegularPolygonMarker(\n",
    "    [45.5012, -122.6655],\n",
    "    popup='Ross Island Bridge',\n",
    "    fill_color='#132b5e',\n",
    "    number_of_sides=3,\n",
    "    radius=10\n",
    "    ).add_to(map_5)\n",
    "folium.RegularPolygonMarker(\n",
    "    [45.5132, -122.6708],\n",
    "    popup='Hawthorne Bridge',\n",
    "    fill_color='#45647d',\n",
    "    number_of_sides=4,\n",
    "    radius=10\n",
    "    ).add_to(map_5)\n",
    "folium.RegularPolygonMarker(\n",
    "    [45.5275, -122.6692],\n",
    "    popup='Steel Bridge',\n",
    "    fill_color='#769d96',\n",
    "    number_of_sides=6,\n",
    "    radius=10\n",
    "    ).add_to(map_5)\n",
    "folium.RegularPolygonMarker(\n",
    "    [45.5318, -122.6745],\n",
    "    popup='Broadway Bridge',\n",
    "    fill_color='#769d96',\n",
    "    number_of_sides=8,\n",
    "    radius=10\n",
    "    ).add_to(map_5)\n",
    "map_5"
   ]
  },
  {
   "cell_type": "code",
   "execution_count": 18,
   "metadata": {
    "collapsed": true
   },
   "outputs": [],
   "source": [
    "# use networkx to calculate the shortest path between two nodes\n",
    "origin_node = list(G.nodes())[0]\n",
    "destination_node = list(G.nodes())[-1]\n",
    "route = nx.shortest_path(G, origin_node, destination_node)"
   ]
  },
  {
   "cell_type": "code",
   "execution_count": 19,
   "metadata": {
    "collapsed": true
   },
   "outputs": [],
   "source": [
    "# plot the route with folium\n",
    "route_map = ox.plot_route_folium(G, route)"
   ]
  },
  {
   "cell_type": "code",
   "execution_count": 20,
   "metadata": {},
   "outputs": [
    {
     "data": {
      "text/html": [
       "<div style=\"width:100%;\"><div style=\"position:relative;width:100%;height:0;padding-bottom:60%;\"><iframe src=\"data:text/html;charset=utf-8;base64,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\" style=\"position:absolute;width:100%;height:100%;left:0;top:0;border:none !important;\" allowfullscreen webkitallowfullscreen mozallowfullscreen></iframe></div></div>"
      ],
      "text/plain": [
       "<folium.folium.Map at 0x7f58cc6ce940>"
      ]
     },
     "execution_count": 20,
     "metadata": {},
     "output_type": "execute_result"
    }
   ],
   "source": [
    "route_map"
   ]
  },
  {
   "cell_type": "code",
   "execution_count": 21,
   "metadata": {},
   "outputs": [
    {
     "data": {
      "text/html": [
       "<div style=\"width:100%;\"><div style=\"position:relative;width:100%;height:0;padding-bottom:60%;\"><iframe src=\"data:text/html;charset=utf-8;base64,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\" style=\"position:absolute;width:100%;height:100%;left:0;top:0;border:none !important;\" allowfullscreen webkitallowfullscreen mozallowfullscreen></iframe></div></div>"
      ],
      "text/plain": [
       "<folium.folium.Map at 0x7f58cd0c7d68>"
      ]
     },
     "execution_count": 21,
     "metadata": {},
     "output_type": "execute_result"
    }
   ],
   "source": [
    "# plot the route with folium on top of the previously created graph_map\n",
    "route_graph_map = ox.plot_route_folium(G, route, popup_attribute='length')\n",
    "\n",
    "route_graph_map"
   ]
  },
  {
   "cell_type": "code",
   "execution_count": null,
   "metadata": {
    "collapsed": true
   },
   "outputs": [],
   "source": []
  }
 ],
 "metadata": {
  "kernelspec": {
   "display_name": "Python 3",
   "language": "python",
   "name": "python3"
  },
  "language_info": {
   "codemirror_mode": {
    "name": "ipython",
    "version": 3
   },
   "file_extension": ".py",
   "mimetype": "text/x-python",
   "name": "python",
   "nbconvert_exporter": "python",
   "pygments_lexer": "ipython3",
   "version": "3.6.0"
  }
 },
 "nbformat": 4,
 "nbformat_minor": 2
}
